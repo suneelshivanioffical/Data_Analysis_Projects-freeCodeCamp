{
 "cells": [
  {
   "cell_type": "markdown",
   "id": "a0777738-5db2-42a0-a00d-cee1dd2da540",
   "metadata": {},
   "source": [
    "# Mean-Variance-Standard Deviation Calculator\n",
    "\n",
    "Create a function named calculate() in mean_var_std.py that uses Numpy to output the mean, variance, standard deviation, max, min, and sum of the rows, columns, and elements in a 3 x 3 matrix.\n",
    "\n",
    "The input of the function should be a list containing 9 digits. The function should convert the list into a 3 x 3 Numpy array, and then return a dictionary containing the mean, variance, standard deviation, max, min, and sum along both axes and for the flattened matrix.\n",
    "\n",
    "The returned dictionary should follow this format:}"
   ]
  },
  {
   "cell_type": "markdown",
   "id": "4cdb8c82-d3f5-4698-9ddf-37a406ab7ee4",
   "metadata": {},
   "source": [
    "> {                  \n",
    "  'mean': [axis1, axis2, flattened],          \n",
    "  'variance': [axis1, axis2, flattened],                    \n",
    "  'standard deviation': [axis1, axis2, flattened],                        \n",
    "  'max': [axis1, axis2, flattened],                 \n",
    "  'min': [axis1, axis2, flattened],                   \n",
    "  'sum': [axis1, axis2, flattened]                     \n",
    "}"
   ]
  },
  {
   "cell_type": "markdown",
   "id": "fbad7432-6a99-4c87-bca0-f1ae09cd5198",
   "metadata": {},
   "source": [
    "If a list containing less than 9 elements is passed into the function, it should raise a ValueError exception with the message: \"List must contain nine numbers.\" The values in the returned dictionary should be lists and not Numpy arrays.\n",
    "\n",
    "For example, calculate([0,1,2,3,4,5,6,7,8]) should return:"
   ]
  },
  {
   "cell_type": "markdown",
   "id": "763df9bb-0ebb-440e-9943-29df18731493",
   "metadata": {},
   "source": [
    "> {                                                     \n",
    "  'mean': [[3.0, 4.0, 5.0], [1.0, 4.0, 7.0], 4.0],                          \n",
    "  'variance': [[6.0, 6.0, 6.0], [0.6666666666666666, 0.6666666666666666, 0.6666666666666666], 6.666666666666667],                       \n",
    "  'standard deviation': [[2.449489742783178, 2.449489742783178, 2.449489742783178], [0.816496580927726, 0.816496580927726, 0.816496580927726], 2.581988897471611],          \n",
    "  'max': [[6, 7, 8], [2, 5, 8], 8],                                 \n",
    "  'min': [[0, 1, 2], [0, 3, 6], 0],                                    \n",
    "  'sum': [[9, 12, 15], [3, 12, 21], 36]                                      \n",
    "} 36]                              \r",
    " }"
   ]
  },
  {
   "cell_type": "markdown",
   "id": "3c18d5f3-67ee-43d1-9f4b-4da2fda4f32c",
   "metadata": {},
   "source": [
    "## Startingg"
   ]
  },
  {
   "cell_type": "code",
   "execution_count": 15,
   "id": "898fb3c2-bbc4-4b90-a721-768ab1df1155",
   "metadata": {},
   "outputs": [
    {
     "name": "stdout",
     "output_type": "stream",
     "text": [
      "{'mean': [[3.0, 4.0, 5.0], [1.0, 4.0, 7.0], 4.0], 'variance': [[6.0, 6.0, 6.0], [0.6666666666666666, 0.6666666666666666, 0.6666666666666666], 6.666666666666667], 'standard deviation': [[2.449489742783178, 2.449489742783178, 2.449489742783178], [0.816496580927726, 0.816496580927726, 0.816496580927726], 2.581988897471611], 'max': [[6, 7, 8], [2, 5, 8], 8], 'min': [[0, 1, 2], [0, 3, 6], 0], 'sum': [[9, 12, 15], [3, 12, 21], 36]}\n"
     ]
    }
   ],
   "source": [
    "import numpy as np\n",
    "\n",
    "def calculate(lst):\n",
    "    if len(lst) != 9:\n",
    "        raise ValueError(\"List must contain nine numbers.\")\n",
    "    \n",
    "    # Reshape the list into a 3x3 NumPy array\n",
    "    ls = np.array(lst).reshape(3, 3)\n",
    "    \n",
    "    # Calculations for rows and columns\n",
    "    mean_rows = ls.mean(axis=1).tolist()\n",
    "    mean_columns = ls.mean(axis=0).tolist()\n",
    "\n",
    "    var_rows = ls.var(axis=1).tolist()\n",
    "    var_columns = ls.var(axis=0).tolist()\n",
    "\n",
    "    std_rows = ls.std(axis=1).tolist()\n",
    "    std_columns = ls.std(axis=0).tolist()\n",
    "\n",
    "    max_rows = ls.max(axis=1).tolist()\n",
    "    max_columns = ls.max(axis=0).tolist()\n",
    "\n",
    "    min_rows = ls.min(axis=1).tolist()\n",
    "    min_columns = ls.min(axis=0).tolist()\n",
    "\n",
    "    sum_rows = ls.sum(axis=1).tolist()\n",
    "    sum_columns = ls.sum(axis=0).tolist()\n",
    "\n",
    "    # Return the results as a dictionary\n",
    "    return {\n",
    "        'mean': [mean_columns, mean_rows, ls.mean().tolist()],\n",
    "        'variance': [var_columns, var_rows, ls.var().tolist()],\n",
    "        'standard deviation': [std_columns, std_rows, ls.std().tolist()],\n",
    "        'max': [max_columns, max_rows, ls.max().tolist()],\n",
    "        'min': [min_columns, min_rows, ls.min().tolist()],\n",
    "        'sum': [sum_columns, sum_rows, ls.sum().tolist()]\n",
    "    }\n",
    "\n",
    "# Example usage:\n",
    "lst = [0, 1, 2, 3, 4, 5, 6, 7, 8]\n",
    "result = calculate(lst)\n",
    "print(result)\n"
   ]
  },
  {
   "cell_type": "code",
   "execution_count": null,
   "id": "4953bb9d-0c22-40c1-8454-c7c535179587",
   "metadata": {},
   "outputs": [],
   "source": []
  }
 ],
 "metadata": {
  "kernelspec": {
   "display_name": "Python 3 (ipykernel)",
   "language": "python",
   "name": "python3"
  },
  "language_info": {
   "codemirror_mode": {
    "name": "ipython",
    "version": 3
   },
   "file_extension": ".py",
   "mimetype": "text/x-python",
   "name": "python",
   "nbconvert_exporter": "python",
   "pygments_lexer": "ipython3",
   "version": "3.12.4"
  }
 },
 "nbformat": 4,
 "nbformat_minor": 5
}
